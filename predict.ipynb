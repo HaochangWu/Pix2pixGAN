{
 "cells": [
  {
   "cell_type": "code",
   "execution_count": null,
   "id": "97f085d2",
   "metadata": {},
   "outputs": [],
   "source": [
    "from Module.BuildModel import *\n",
    "from Module.Common import *\n",
    "from glob import glob\n",
    "import numpy as np\n",
    "import pandas as pd\n",
    "import cv2\n",
    "import os\n",
    "\n",
    "generator = buildGenerator()\n",
    "generator.load_weights(staticDir + '/best_generator.h5')\n",
    "path = input(\"Please drag in the image:\")\n",
    "x = cv2.imdecode(np.fromfile(path, dtype=np.uint8), -1)\n",
    "x = normalizeImg(x)\n",
    "fakeImg = generator(np.stack([x]))\n",
    "fakeImg = reverseImg(fakeImg).numpy().astype(np.uint8)[0]\n",
    "cv2.imshow(\"\",fakeImg)\n",
    "cv2.waitKey(0)"
   ]
  }
 ],
 "metadata": {
  "kernelspec": {
   "display_name": "Python 3 (ipykernel)",
   "language": "python",
   "name": "python3"
  },
  "language_info": {
   "codemirror_mode": {
    "name": "ipython",
    "version": 3
   },
   "file_extension": ".py",
   "mimetype": "text/x-python",
   "name": "python",
   "nbconvert_exporter": "python",
   "pygments_lexer": "ipython3",
   "version": "3.9.13"
  }
 },
 "nbformat": 4,
 "nbformat_minor": 5
}
